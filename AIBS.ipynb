{
 "cells": [
  {
   "cell_type": "code",
   "execution_count": 1,
   "metadata": {
    "collapsed": false
   },
   "outputs": [
    {
     "data": {
      "text/plain": [
       "'/home/mnt'"
      ]
     },
     "execution_count": 1,
     "metadata": {},
     "output_type": "execute_result"
    }
   ],
   "source": [
    "import rickpy\n",
    "rickpy.use_dev_packages(['rickpy','../work/scidash/sciunit','../work/scidash/neuronunit','../work/neuroml/pyNeuroML'])\n",
    "import imp\n",
    "imp.reload(rickpy);\n",
    "dir()\n",
    "import sys\n",
    "sys.path\n",
    "#import neuroml\n",
    "#import scidash.neuronunit\n",
    "#print(neuroml.__file__)\n",
    "import os\n",
    "os.getcwd()"
   ]
  },
  {
   "cell_type": "code",
   "execution_count": 2,
   "metadata": {
    "collapsed": false
   },
   "outputs": [
    {
     "name": "stderr",
     "output_type": "stream",
     "text": [
      "/opt/conda/lib/python3.5/site-packages/matplotlib/font_manager.py:273: UserWarning: Matplotlib is building the font cache using fc-list. This may take a moment.\n",
      "  warnings.warn('Matplotlib is building the font cache using fc-list. This may take a moment.')\n",
      "/opt/conda/lib/python3.5/site-packages/matplotlib/font_manager.py:273: UserWarning: Matplotlib is building the font cache using fc-list. This may take a moment.\n",
      "  warnings.warn('Matplotlib is building the font cache using fc-list. This may take a moment.')\n"
     ]
    },
    {
     "ename": "ImportError",
     "evalue": "No module named 'pyneuroml'",
     "output_type": "error",
     "traceback": [
      "\u001b[0;31m---------------------------------------------------------------------------\u001b[0m",
      "\u001b[0;31mImportError\u001b[0m                               Traceback (most recent call last)",
      "\u001b[0;32m<ipython-input-2-5cdf205b7da5>\u001b[0m in \u001b[0;36m<module>\u001b[0;34m()\u001b[0m\n\u001b[1;32m      7\u001b[0m \u001b[0;32mimport\u001b[0m \u001b[0mneuronunit\u001b[0m\u001b[0;34m\u001b[0m\u001b[0m\n\u001b[1;32m      8\u001b[0m \u001b[0;32mfrom\u001b[0m \u001b[0mneuronunit\u001b[0m \u001b[0;32mimport\u001b[0m \u001b[0maibs\u001b[0m\u001b[0;34m\u001b[0m\u001b[0m\n\u001b[0;32m----> 9\u001b[0;31m \u001b[0;32mfrom\u001b[0m \u001b[0mneuronunit\u001b[0m\u001b[0;34m.\u001b[0m\u001b[0mmodels\u001b[0m\u001b[0;34m.\u001b[0m\u001b[0mreduced\u001b[0m \u001b[0;32mimport\u001b[0m \u001b[0mReducedModel\u001b[0m\u001b[0;34m\u001b[0m\u001b[0m\n\u001b[0m",
      "\u001b[0;32m/opt/conda/lib/python3.5/site-packages/neuronunit/models/__init__.py\u001b[0m in \u001b[0;36m<module>\u001b[0;34m()\u001b[0m\n\u001b[1;32m      7\u001b[0m \u001b[0;32mimport\u001b[0m \u001b[0msciunit\u001b[0m\u001b[0;34m\u001b[0m\u001b[0m\n\u001b[1;32m      8\u001b[0m \u001b[0;32mimport\u001b[0m \u001b[0mneuronunit\u001b[0m\u001b[0;34m.\u001b[0m\u001b[0mcapabilities\u001b[0m \u001b[0;32mas\u001b[0m \u001b[0mcap\u001b[0m\u001b[0;34m\u001b[0m\u001b[0m\n\u001b[0;32m----> 9\u001b[0;31m \u001b[0;32mfrom\u001b[0m \u001b[0mpyneuroml\u001b[0m \u001b[0;32mimport\u001b[0m \u001b[0mpynml\u001b[0m\u001b[0;34m\u001b[0m\u001b[0m\n\u001b[0m\u001b[1;32m     10\u001b[0m \u001b[0;32mfrom\u001b[0m \u001b[0mneo\u001b[0m\u001b[0;34m.\u001b[0m\u001b[0mcore\u001b[0m \u001b[0;32mimport\u001b[0m \u001b[0mAnalogSignal\u001b[0m\u001b[0;34m\u001b[0m\u001b[0m\n\u001b[1;32m     11\u001b[0m \u001b[0;32mfrom\u001b[0m \u001b[0mquantities\u001b[0m \u001b[0;32mimport\u001b[0m \u001b[0mms\u001b[0m\u001b[0;34m,\u001b[0m\u001b[0mmV\u001b[0m\u001b[0;34m,\u001b[0m\u001b[0mHz\u001b[0m\u001b[0;34m\u001b[0m\u001b[0m\n",
      "\u001b[0;31mImportError\u001b[0m: No module named 'pyneuroml'"
     ]
    }
   ],
   "source": [
    "%matplotlib notebook\n",
    "import os,sys\n",
    "import numpy as np\n",
    "import matplotlib.pyplot as plt\n",
    "import quantities as pq\n",
    "import sciunit\n",
    "import neuronunit\n",
    "from neuronunit import aibs\n",
    "from neuronunit.models.reduced import ReducedModel"
   ]
  },
  {
   "cell_type": "code",
   "execution_count": null,
   "metadata": {
    "collapsed": false
   },
   "outputs": [],
   "source": [
    "# Replace this with your model path.  \n",
    "# This example is from https://github.com/OpenSourceBrain/IzhikevichModel.\n",
    "HOME = os.path.expanduser('~')\n",
    "LEMS_MODEL_PATH = os.path.join(HOME,'Dropbox/dev/osb/IzhikevichModel/NeuroML2/LEMS_2007One.xml')"
   ]
  },
  {
   "cell_type": "code",
   "execution_count": 4,
   "metadata": {
    "collapsed": false
   },
   "outputs": [
    {
     "data": {
      "text/plain": [
       "['CellTypesApi',\n",
       " '__builtins__',\n",
       " '__cached__',\n",
       " '__doc__',\n",
       " '__file__',\n",
       " '__loader__',\n",
       " '__name__',\n",
       " '__package__',\n",
       " '__spec__',\n",
       " 'get_observation',\n",
       " 'get_square_stim_characteristics',\n",
       " 'get_sweep_from_nwb',\n",
       " 'get_sweep_params',\n",
       " 'np',\n",
       " 'pq']"
      ]
     },
     "execution_count": 4,
     "metadata": {},
     "output_type": "execute_result"
    }
   ],
   "source": [
    "#from neuronunit.capabilities import spike_functions\n",
    "#waveforms = spike_functions.get_spike_waveforms(vm)\n",
    "#np.max(waveforms.data,axis=1)\n",
    "dir(aibs)"
   ]
  },
  {
   "cell_type": "code",
   "execution_count": 5,
   "metadata": {
    "collapsed": false
   },
   "outputs": [],
   "source": [
    "#np.max(np.array(waveforms),axis=1)"
   ]
  },
  {
   "cell_type": "code",
   "execution_count": 6,
   "metadata": {
    "collapsed": false
   },
   "outputs": [
    {
     "data": {
      "text/plain": [
       "['__builtins__',\n",
       " '__cached__',\n",
       " '__doc__',\n",
       " '__file__',\n",
       " '__loader__',\n",
       " '__name__',\n",
       " '__package__',\n",
       " '__path__',\n",
       " '__spec__',\n",
       " 'cell_types_api',\n",
       " 'rma_api']"
      ]
     },
     "execution_count": 6,
     "metadata": {},
     "output_type": "execute_result"
    }
   ],
   "source": [
    "#np.max(waveforms,axis=1)\n",
    "import allensdk\n",
    "dir(allensdk.api.queries)\n"
   ]
  },
  {
   "cell_type": "code",
   "execution_count": 9,
   "metadata": {
    "collapsed": false
   },
   "outputs": [
    {
     "ename": "AttributeError",
     "evalue": "'CellTypesApi' object has no attribute 'get_cell'",
     "output_type": "error",
     "traceback": [
      "\u001b[0;31m---------------------------------------------------------------------------\u001b[0m",
      "\u001b[0;31mAttributeError\u001b[0m                            Traceback (most recent call last)",
      "\u001b[0;32m<ipython-input-9-bb7ec5bdfe0d>\u001b[0m in \u001b[0;36m<module>\u001b[0;34m()\u001b[0m\n\u001b[1;32m      9\u001b[0m \u001b[0mdir\u001b[0m\u001b[0;34m(\u001b[0m\u001b[0maibs\u001b[0m\u001b[0;34m.\u001b[0m\u001b[0mget_observation\u001b[0m\u001b[0;34m)\u001b[0m\u001b[0;34m\u001b[0m\u001b[0m\n\u001b[1;32m     10\u001b[0m \u001b[0;34m\u001b[0m\u001b[0m\n\u001b[0;32m---> 11\u001b[0;31m \u001b[0mobservation\u001b[0m \u001b[0;34m=\u001b[0m \u001b[0maibs\u001b[0m\u001b[0;34m.\u001b[0m\u001b[0mget_observation\u001b[0m\u001b[0;34m(\u001b[0m\u001b[0mdataset_id\u001b[0m\u001b[0;34m,\u001b[0m\u001b[0;34m'rheobase'\u001b[0m\u001b[0;34m)\u001b[0m\u001b[0;34m\u001b[0m\u001b[0m\n\u001b[0m\u001b[1;32m     12\u001b[0m \u001b[0;34m\u001b[0m\u001b[0m\n\u001b[1;32m     13\u001b[0m \u001b[0;34m\u001b[0m\u001b[0m\n",
      "\u001b[0;32m/opt/conda/lib/python3.5/site-packages/neuronunit/aibs.py\u001b[0m in \u001b[0;36mget_observation\u001b[0;34m(dataset_id, kind, cached)\u001b[0m\n\u001b[1;32m     18\u001b[0m \u001b[0;32mdef\u001b[0m \u001b[0mget_observation\u001b[0m\u001b[0;34m(\u001b[0m\u001b[0mdataset_id\u001b[0m\u001b[0;34m,\u001b[0m\u001b[0mkind\u001b[0m\u001b[0;34m,\u001b[0m\u001b[0mcached\u001b[0m\u001b[0;34m=\u001b[0m\u001b[0;32mTrue\u001b[0m\u001b[0;34m)\u001b[0m\u001b[0;34m:\u001b[0m\u001b[0;34m\u001b[0m\u001b[0m\n\u001b[1;32m     19\u001b[0m     \u001b[0mct\u001b[0m \u001b[0;34m=\u001b[0m \u001b[0mCellTypesApi\u001b[0m\u001b[0;34m(\u001b[0m\u001b[0;34m)\u001b[0m\u001b[0;34m\u001b[0m\u001b[0m\n\u001b[0;32m---> 20\u001b[0;31m     \u001b[0mcmd\u001b[0m \u001b[0;34m=\u001b[0m \u001b[0mct\u001b[0m\u001b[0;34m.\u001b[0m\u001b[0mget_cell\u001b[0m\u001b[0;34m(\u001b[0m\u001b[0mdataset_id\u001b[0m\u001b[0;34m)\u001b[0m \u001b[0;31m# Cell metadata\u001b[0m\u001b[0;34m\u001b[0m\u001b[0m\n\u001b[0m\u001b[1;32m     21\u001b[0m \u001b[0;34m\u001b[0m\u001b[0m\n\u001b[1;32m     22\u001b[0m     \u001b[0msweep_num\u001b[0m \u001b[0;34m=\u001b[0m \u001b[0;32mNone\u001b[0m\u001b[0;34m\u001b[0m\u001b[0m\n",
      "\u001b[0;31mAttributeError\u001b[0m: 'CellTypesApi' object has no attribute 'get_cell'"
     ]
    }
   ],
   "source": [
    "import quantities as pq\n",
    "from neuronunit import tests as nu_tests, neuroelectro\n",
    "neuron = {'nlex_id': 'nifext_50'} # Layer V pyramidal cell\n",
    "tests = []\n",
    "import pdb\n",
    "dataset_id = 354190013  # Internal ID that AIBS uses for a particular Scnn1a-Tg2-Cre \n",
    "                        # Primary visual area, layer 5 neuron.\n",
    "\n",
    "dir(aibs.get_observation)    \n",
    "\n",
    "observation = aibs.get_observation(dataset_id,'rheobase')\n",
    "\n",
    "\n",
    "tests += [nu_tests.RheobaseTest(observation=observation)]\n",
    "    \n",
    "test_class_params = [(nu_tests.InputResistanceTest,None),\n",
    "                     (nu_tests.TimeConstantTest,None),\n",
    "                     (nu_tests.CapacitanceTest,None),\n",
    "                     (nu_tests.RestingPotentialTest,None),\n",
    "                     (nu_tests.InjectedCurrentAPWidthTest,None),\n",
    "                     (nu_tests.InjectedCurrentAPAmplitudeTest,None),\n",
    "                     (nu_tests.InjectedCurrentAPThresholdTest,None)]\n",
    "\n",
    "for cls,params in test_class_params:\n",
    "    observation = cls.neuroelectro_summary_observation(neuron)\n",
    "    tests += [cls(observation,params=params)]\n",
    "    print(tests)\n",
    "    \n",
    "def update_amplitude(test,tests,score):\n",
    "    rheobase = score.prediction['value']\n",
    "    for i in [3,4,5]:\n",
    "        tests[i].params['injected_square_current']['amplitude'] = rheobase*1.01 # Set current injection to just suprathreshold\n",
    "    \n",
    "hooks = {tests[0]:{'f':update_amplitude}}\n",
    "suite = sciunit.TestSuite(\"vm_suite\",tests,hooks=hooks)"
   ]
  },
  {
   "cell_type": "code",
   "execution_count": null,
   "metadata": {
    "collapsed": false
   },
   "outputs": [],
   "source": [
    "model = ReducedModel(LEMS_MODEL_PATH,name='vanilla')\n",
    "suite.judge(model)"
   ]
  },
  {
   "cell_type": "code",
   "execution_count": null,
   "metadata": {
    "collapsed": false
   },
   "outputs": [],
   "source": [
    "test = nu_tests.TimeConstantTest"
   ]
  },
  {
   "cell_type": "code",
   "execution_count": null,
   "metadata": {
    "collapsed": false
   },
   "outputs": [],
   "source": [
    "models = []\n",
    "for vr in np.linspace(-75,-50,6):\n",
    "    model = ReducedModel(LEMS_MODEL_PATH, \n",
    "                         name='V_rest=%dmV' % vr, \n",
    "                         attrs={'//izhikevich2007Cell':\n",
    "                                    {'vr':'%d mV' % vr}\n",
    "                               })\n",
    "    #model.skip_run = True\n",
    "    models.append(model)\n",
    "score_matrix = suite.judge(models, verbose=False)\n",
    "score_matrix.show_mean = True\n",
    "score_matrix.sortable = True\n",
    "score_matrix"
   ]
  },
  {
   "cell_type": "code",
   "execution_count": null,
   "metadata": {
    "collapsed": false
   },
   "outputs": [],
   "source": [
    "from neo.core import AnalogSignal\n",
    "x = AnalogSignal([1,2,3],units='mV',sampling_period=0.001*pq.s)\n",
    "np.array(x)"
   ]
  },
  {
   "cell_type": "code",
   "execution_count": null,
   "metadata": {
    "collapsed": false
   },
   "outputs": [],
   "source": [
    "import matplotlib as mpl\n",
    "mpl.rcParams['font.size'] = 20\n",
    "vm = score_matrix[tests[3]][4].related_data['vm'].rescale('mV') # Plot the rheobase current (test 3) \n",
    "                                                                # from v_rest = -55 mV (model 4)\n",
    "ax = plt.gca()\n",
    "ax.plot(vm.times,vm)\n",
    "y_min = float(vm.min()-5.0*pq.mV)\n",
    "y_max = float(vm.max()+5.0*pq.mV)\n",
    "ax.set_xlim(0,1.6)\n",
    "ax.set_ylim(y_min,y_max)\n",
    "ax.set_xlabel('Time (s)',size=24)\n",
    "ax.set_ylabel('Vm (mV)',size=24);\n",
    "plt.tight_layout()"
   ]
  },
  {
   "cell_type": "code",
   "execution_count": null,
   "metadata": {
    "collapsed": false,
    "scrolled": false
   },
   "outputs": [],
   "source": [
    "\n",
    "for a in np.linspace(0.015,0.045,2):\n",
    "    for b in np.linspace(-3.5,-0.5,2):\n",
    "        for C in np.linspace(50,150,3):\n",
    "            for k in np.linspace(0.4,1.0,3):\n",
    "                model = ReducedModel(LEMS_MODEL_PATH, \n",
    "                             name='a=%.3fperms_b=%.1fnS_C=%dpF_k=%.2f' % (a,b,C,k), \n",
    "                             attrs={'//izhikevich2007Cell':\n",
    "                                        {'b':'%.1f nS' % b,\n",
    "                                         'a':'%.3f per_ms' % a,\n",
    "                                         'C':'%d pF' % C,\n",
    "                                         'k':'%.2f nS_per_mV' % k,\n",
    "                                         'vr':'-68 mV',\n",
    "                                         'vpeak':'45 mV'}\n",
    "                                   })\n",
    "                #model.skip_run = True\n",
    "                models3.append(model)\n",
    "score_matrix3 = suite.judge(models3, verbose=False)\n",
    "score_matrix3.show_mean = True\n",
    "score_matrix3.sortable = True\n",
    "score_matrix3\n"
   ]
  },
  {
   "cell_type": "code",
   "execution_count": null,
   "metadata": {
    "collapsed": false
   },
   "outputs": [],
   "source": [
    "\"\"\"\n",
    "models2 = []\n",
    "for i,a in enumerate(np.linspace(0.015,0.045,7)):\n",
    "    for j,b in enumerate(np.linspace(-3.5,-0.5,7)):\n",
    "        model = ReducedModel(LEMS_MODEL_PATH, \n",
    "                     name='a=%.3fperms_b=%.1fnS' % (a,b), \n",
    "                     attrs={'//izhikevich2007Cell':\n",
    "                                {'b':'%.1f nS' % b,\n",
    "                                 'a':'%.3f per_ms' % a,\n",
    "                                 'C':'150 pF',\n",
    "                                 'k':'0.70 nS_per_mV',\n",
    "                                 'vr':'-68 mV',\n",
    "                                 'vpeak':'45 mV'}\n",
    "                           })\n",
    "        #model.skip_run = True\n",
    "        models2.append(model)\n",
    "score_matrix2 = suite.judge(models2, verbose=False)\n",
    "score_matrix2.show_mean = True\n",
    "score_matrix2.sortable = True\n",
    "score_matrix2\n",
    "\"\"\";"
   ]
  },
  {
   "cell_type": "code",
   "execution_count": null,
   "metadata": {
    "collapsed": false
   },
   "outputs": [],
   "source": [
    "\"\"\"\n",
    "import matplotlib as mpl\n",
    "mpl.rcParams['font.size'] = 18\n",
    "heatmap = np.zeros((7,7))\n",
    "for i,a in enumerate(np.linspace(0.015,0.045,7)):\n",
    "    for j,b in enumerate(np.linspace(-3.5,-0.5,7)):\n",
    "        for model in score_matrix2.models:\n",
    "            if model.name == 'a=%.3fperms_b=%.1fnS' % (a,b):\n",
    "                heatmap[i,j] = 20*(score_matrix2[model].mean() - 0.8070)+0.8070#[tests[0]].score\n",
    "#heatmap[2,0] = np.nan\n",
    "plt.pcolor(heatmap,cmap='magma')\n",
    "plt.yticks(np.arange(7)+0.5,np.linspace(0.015,0.045,7))\n",
    "plt.ylabel('Izhikevich Parameter $a$')\n",
    "plt.xticks(np.arange(7)+0.5,np.linspace(-3.5,-0.5,7))\n",
    "plt.xlabel('Izhikevich Parameter $b$')\n",
    "cbar = plt.colorbar()\n",
    "cbar.set_label('Mean Test Score',size=15)\n",
    "cbar.ax.tick_params(labelsize=15) \n",
    "plt.tight_layout()\n",
    "np.save('heatmap',heatmap)\n",
    "\"\"\";"
   ]
  },
  {
   "cell_type": "code",
   "execution_count": null,
   "metadata": {
    "collapsed": false
   },
   "outputs": [],
   "source": [
    "\"\"\"\n",
    "from neuronunit.tests.dynamics import TFRTypeTest,BurstinessTest\n",
    "\n",
    "is_bursty = BurstinessTest(observation={'cv_mean':1.5, 'cv_std':1.0})\n",
    "score_matrix2 = is_bursty.judge(models)\n",
    "score_matrix2\n",
    "\"\"\";"
   ]
  },
  {
   "cell_type": "code",
   "execution_count": null,
   "metadata": {
    "collapsed": false
   },
   "outputs": [],
   "source": [
    "\"\"\"\n",
    "#rickpy.refresh_objects(locals(),modules=None)\n",
    "rickpy.refresh_objects(locals().copy(),modules=['sciunit','neuronunit'])\n",
    "isinstance(tests[0],sciunit.Test) # Should print True if successful\n",
    "\"\"\";"
   ]
  }
 ],
 "metadata": {
  "kernelspec": {
   "display_name": "Python 3",
   "language": "python",
   "name": "python3"
  },
  "language_info": {
   "codemirror_mode": {
    "name": "ipython",
    "version": 3
   },
   "file_extension": ".py",
   "mimetype": "text/x-python",
   "name": "python",
   "nbconvert_exporter": "python",
   "pygments_lexer": "ipython3",
   "version": "3.5.2"
  }
 },
 "nbformat": 4,
 "nbformat_minor": 0
}
